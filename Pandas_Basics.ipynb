{
  "nbformat": 4,
  "nbformat_minor": 0,
  "metadata": {
    "colab": {
      "provenance": [],
      "authorship_tag": "ABX9TyNeaIwG37GcBOShVTrT1jI9",
      "include_colab_link": true
    },
    "kernelspec": {
      "name": "python3",
      "display_name": "Python 3"
    },
    "language_info": {
      "name": "python"
    }
  },
  "cells": [
    {
      "cell_type": "markdown",
      "metadata": {
        "id": "view-in-github",
        "colab_type": "text"
      },
      "source": [
        "<a href=\"https://colab.research.google.com/github/venkatarajunesha360/Basic-DL/blob/main/Pandas_Basics.ipynb\" target=\"_parent\"><img src=\"https://colab.research.google.com/assets/colab-badge.svg\" alt=\"Open In Colab\"/></a>"
      ]
    },
    {
      "cell_type": "code",
      "execution_count": 1,
      "metadata": {
        "id": "ksOGW9Li-vvU"
      },
      "outputs": [],
      "source": [
        "import pandas as pd\n"
      ]
    },
    {
      "cell_type": "code",
      "source": [
        "a = pd.Series([1,2,3,4,5,6,7,8])"
      ],
      "metadata": {
        "id": "Rx7V8PKv-zqr"
      },
      "execution_count": 3,
      "outputs": []
    },
    {
      "cell_type": "code",
      "source": [
        "a"
      ],
      "metadata": {
        "colab": {
          "base_uri": "https://localhost:8080/"
        },
        "id": "KVVUIVnh-9Ha",
        "outputId": "8e378ad5-f0bf-4406-d8e4-4e5957e2b73d"
      },
      "execution_count": 4,
      "outputs": [
        {
          "output_type": "execute_result",
          "data": {
            "text/plain": [
              "0    1\n",
              "1    2\n",
              "2    3\n",
              "3    4\n",
              "4    5\n",
              "5    6\n",
              "6    7\n",
              "7    8\n",
              "dtype: int64"
            ]
          },
          "metadata": {},
          "execution_count": 4
        }
      ]
    },
    {
      "cell_type": "code",
      "source": [
        "# prompt: write a pandas basics codes\n",
        "\n",
        "import pandas as pd\n",
        "# Create a DataFrame\n",
        "df = pd.DataFrame({'Name': ['John', 'Mary', 'Bob'], 'Age': [25, 30, 28]})\n",
        "\n",
        "# Print the DataFrame\n",
        "print(df)\n",
        "\n",
        "# Access the first row\n",
        "print(df.iloc[0])\n",
        "\n",
        "# Access the first column\n",
        "print(df['Name'])\n",
        "\n",
        "# Add a new column\n",
        "df['City'] = ['New York', 'Chicago', 'Los Angeles']\n",
        "\n",
        "# Print the DataFrame\n",
        "print(df)\n",
        "\n",
        "# Delete a column\n",
        "del df['City']\n",
        "\n",
        "# Print the DataFrame\n",
        "print(df)\n"
      ],
      "metadata": {
        "colab": {
          "base_uri": "https://localhost:8080/"
        },
        "id": "CjbZ43rG_1HF",
        "outputId": "8afec7bf-8d90-48be-f2f7-c7bdbda7f4e8"
      },
      "execution_count": 5,
      "outputs": [
        {
          "output_type": "stream",
          "name": "stdout",
          "text": [
            "   Name  Age\n",
            "0  John   25\n",
            "1  Mary   30\n",
            "2   Bob   28\n",
            "Name    John\n",
            "Age       25\n",
            "Name: 0, dtype: object\n",
            "0    John\n",
            "1    Mary\n",
            "2     Bob\n",
            "Name: Name, dtype: object\n",
            "   Name  Age         City\n",
            "0  John   25     New York\n",
            "1  Mary   30      Chicago\n",
            "2   Bob   28  Los Angeles\n",
            "   Name  Age\n",
            "0  John   25\n",
            "1  Mary   30\n",
            "2   Bob   28\n"
          ]
        }
      ]
    },
    {
      "cell_type": "code",
      "source": [],
      "metadata": {
        "id": "f8XRdt6cAq0F"
      },
      "execution_count": null,
      "outputs": []
    }
  ]
}